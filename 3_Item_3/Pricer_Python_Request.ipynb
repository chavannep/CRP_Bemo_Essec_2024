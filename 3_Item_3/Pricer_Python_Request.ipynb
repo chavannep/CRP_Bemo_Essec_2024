{
 "cells": [
  {
   "cell_type": "code",
   "execution_count": 64,
   "id": "d0bf23e8-18cd-4f90-9c93-c48f31556464",
   "metadata": {},
   "outputs": [],
   "source": [
    "import pandas as pd\n",
    "import numpy as np\n",
    "import requests\n",
    "import json\n",
    "import ast\n",
    "import warnings\n",
    "warnings.filterwarnings('ignore')"
   ]
  },
  {
   "cell_type": "markdown",
   "id": "43015962-f59c-4711-b9f1-40db895965d9",
   "metadata": {},
   "source": [
    "# Loading dataframes"
   ]
  },
  {
   "cell_type": "markdown",
   "id": "241a54f5-2fb3-4ad4-8ab5-81e5e2a066fb",
   "metadata": {},
   "source": [
    "### Transactions and EVSE (merged) dataframes"
   ]
  },
  {
   "cell_type": "code",
   "execution_count": 65,
   "id": "5d1c11ff-e658-4448-a3d0-bf3447a49ed4",
   "metadata": {},
   "outputs": [
    {
     "name": "stdout",
     "output_type": "stream",
     "text": [
      "True\n",
      "True\n"
     ]
    }
   ],
   "source": [
    "df_trx_evse_1 = pd.read_csv('./../Sampled_Dataset_Transactions_PricerV2_filt_A.csv', sep=';', encoding='utf-8', decimal='.')\n",
    "df_trx_evse_2 = pd.read_csv('./../Sampled_Dataset_Transactions_PricerV2_filt_B.csv', sep=';', encoding='utf-8', decimal='.')\n",
    "df_trx_evse_3 = pd.read_csv('./../Sampled_Dataset_Transactions_PricerV2_filt_C.csv', sep=';', encoding='utf-8', decimal='.')\n",
    "\n",
    "print(sorted(list(df_trx_evse_1.columns)) == sorted(list(df_trx_evse_2.columns)))\n",
    "print(sorted(list(df_trx_evse_2.columns)) == sorted(list(df_trx_evse_3.columns)))"
   ]
  },
  {
   "cell_type": "code",
   "execution_count": 66,
   "id": "3fa8ea0c-2b66-46d5-9586-864d9806f7d3",
   "metadata": {},
   "outputs": [
    {
     "name": "stdout",
     "output_type": "stream",
     "text": [
      "['Backend_Operator', 'CPO', 'CPO_Code', 'ChargingPeriodCollection_Body', 'Connector_Id', 'Country_Code', 'Delta_Price', 'Duration', 'EVSE_Id', 'End_Date', 'End_Time', 'Latitude', 'Longitude', 'MSP_Segment', 'Main_stat_all', 'Power', 'Power_Category', 'Quantity', 'Remote_Capacity', 'Start_Date', 'Start_Time', 'Stat_tag', 'Transaction_Id', 'Transaction_Price', 'Transaction_Price_Bemo_Energy_Component', 'Transaction_Price_Bemo_Estimation', 'Transaction_Price_Bemo_Flat_Component', 'Transaction_Price_Bemo_ParkingTime_Component', 'Transaction_Price_Bemo_Time_Component', 'Transaction_Price_CPO_Estimation', 'Vehicle_Id', 'Zip_Code']\n"
     ]
    }
   ],
   "source": [
    "df_trx_evse = pd.concat([df_trx_evse_1, df_trx_evse_2], join='outer', ignore_index=True)\n",
    "df_trx_evse = pd.concat([df_trx_evse, df_trx_evse_3], join='outer', ignore_index=True)\n",
    "del df_trx_evse_1\n",
    "del df_trx_evse_2\n",
    "del df_trx_evse_3\n",
    "df_trx_evse.reset_index(drop=True, inplace=True)\n",
    "print(sorted(list(df_trx_evse.columns)))"
   ]
  },
  {
   "cell_type": "markdown",
   "id": "c4910ad8-8960-4075-b898-bda4e43d660a",
   "metadata": {},
   "source": [
    "### Price formula dataframes"
   ]
  },
  {
   "cell_type": "code",
   "execution_count": 67,
   "id": "49c00d14-346c-40a3-b801-5142e7169204",
   "metadata": {},
   "outputs": [
    {
     "name": "stdout",
     "output_type": "stream",
     "text": [
      "True\n"
     ]
    }
   ],
   "source": [
    "df_price_formula_1 = pd.read_csv('./../Sampled_Dataset_PriceFormula_filt_A.csv', sep=';', encoding='utf-8', decimal='.')\n",
    "df_price_formula_2 = pd.read_csv('./../Sampled_Dataset_PriceFormula_filt_B.csv', sep=';', encoding='utf-8', decimal='.')\n",
    "df_price_formula_3 = pd.read_csv('./../Sampled_Dataset_PriceFormula_filt_C.csv', sep=';', encoding='utf-8', decimal='.')\n",
    "df_price_formula_4 = pd.read_csv('./../Sampled_Dataset_PriceFormula_filt_D.csv', sep=';', encoding='utf-8', decimal='.')\n",
    "df_price_formula_5 = pd.read_csv('./../Sampled_Dataset_PriceFormula_filt_E.csv', sep=';', encoding='utf-8', decimal='.')\n",
    "df_price_formula_6 = pd.read_csv('./../Sampled_Dataset_PriceFormula_filt_F.csv', sep=';', encoding='utf-8', decimal='.')\n",
    "\n",
    "print(sorted(list(df_price_formula_1.columns)) == sorted(list(df_price_formula_2.columns)))"
   ]
  },
  {
   "cell_type": "code",
   "execution_count": 68,
   "id": "df38b721-bf62-424b-9366-3481525e12a0",
   "metadata": {},
   "outputs": [
    {
     "name": "stdout",
     "output_type": "stream",
     "text": [
      "['Connector_Id', 'Country_Code', 'Creation_Date', 'Formula', 'Id', 'Valid_From', 'Valid_To']\n"
     ]
    }
   ],
   "source": [
    "df_price_formula = pd.concat([df_price_formula_1, df_price_formula_2], join='outer', ignore_index=True)\n",
    "df_price_formula = pd.concat([df_price_formula, df_price_formula_3], join='outer', ignore_index=True)\n",
    "df_price_formula = pd.concat([df_price_formula, df_price_formula_4], join='outer', ignore_index=True)\n",
    "df_price_formula = pd.concat([df_price_formula, df_price_formula_5], join='outer', ignore_index=True)\n",
    "df_price_formula = pd.concat([df_price_formula, df_price_formula_6], join='outer', ignore_index=True)\n",
    "del df_price_formula_1\n",
    "del df_price_formula_2\n",
    "del df_price_formula_3\n",
    "del df_price_formula_4\n",
    "del df_price_formula_5\n",
    "del df_price_formula_6\n",
    "df_price_formula.reset_index(drop=True, inplace=True)\n",
    "print(sorted(list(df_price_formula.columns)))"
   ]
  },
  {
   "cell_type": "markdown",
   "id": "2886b827-5e8c-48e6-97e7-c33131ebff49",
   "metadata": {},
   "source": [
    "# Merging dataframes"
   ]
  },
  {
   "cell_type": "code",
   "execution_count": 69,
   "id": "eae4ec3f-4bbf-4a6f-b086-d385e50997b8",
   "metadata": {},
   "outputs": [
    {
     "name": "stdout",
     "output_type": "stream",
     "text": [
      "TRX EVSE\n",
      "['Backend_Operator', 'CPO', 'CPO_Code', 'ChargingPeriodCollection_Body', 'Connector_Id', 'Country_Code', 'Delta_Price', 'Duration', 'EVSE_Id', 'End_Date', 'End_Time', 'Latitude', 'Longitude', 'MSP_Segment', 'Main_stat_all', 'Power', 'Power_Category', 'Quantity', 'Remote_Capacity', 'Start_Date', 'Start_Time', 'Stat_tag', 'Transaction_Id', 'Transaction_Price', 'Transaction_Price_Bemo_Energy_Component', 'Transaction_Price_Bemo_Estimation', 'Transaction_Price_Bemo_Flat_Component', 'Transaction_Price_Bemo_ParkingTime_Component', 'Transaction_Price_Bemo_Time_Component', 'Transaction_Price_CPO_Estimation', 'Vehicle_Id', 'Zip_Code']\n",
      "\n",
      "\n",
      "Price formula\n",
      "['Connector_Id', 'Country_Code', 'Creation_Date', 'Formula', 'Id', 'Valid_From', 'Valid_To']\n"
     ]
    }
   ],
   "source": [
    "print('TRX EVSE')\n",
    "print(sorted(list(df_trx_evse.columns)))\n",
    "print('\\n')\n",
    "print('Price formula')\n",
    "print(sorted(list(df_price_formula.columns)))"
   ]
  },
  {
   "cell_type": "code",
   "execution_count": 70,
   "id": "9769a633-1e88-4dc0-b69f-92f20588b9db",
   "metadata": {},
   "outputs": [
    {
     "data": {
      "text/plain": [
       "{'Connector_Id', 'Country_Code'}"
      ]
     },
     "execution_count": 70,
     "metadata": {},
     "output_type": "execute_result"
    }
   ],
   "source": [
    "set(sorted(list(df_trx_evse.columns))).intersection(set(sorted(list(df_price_formula.columns))))"
   ]
  },
  {
   "cell_type": "code",
   "execution_count": 71,
   "id": "683f3f7f-9416-4797-8f9b-cf520757b290",
   "metadata": {},
   "outputs": [
    {
     "name": "stdout",
     "output_type": "stream",
     "text": [
      "205162\n",
      "205162\n"
     ]
    }
   ],
   "source": [
    "print(df_trx_evse.shape[0])\n",
    "df_trx_evse_formula = pd.merge(df_trx_evse,\\\n",
    "                   df_price_formula,\\\n",
    "                   on=['Connector_Id'], how='left', suffixes=['','_Price'])\n",
    "df_trx_evse_formula.reset_index(drop=True, inplace=True)\n",
    "print(df_trx_evse_formula['Formula'].notnull().size)"
   ]
  },
  {
   "cell_type": "code",
   "execution_count": 72,
   "id": "56424de8-1a05-4424-bddd-d5788b6194b4",
   "metadata": {},
   "outputs": [
    {
     "data": {
      "text/plain": [
       "['Backend_Operator',\n",
       " 'CPO',\n",
       " 'CPO_Code',\n",
       " 'ChargingPeriodCollection_Body',\n",
       " 'Connector_Id',\n",
       " 'Country_Code',\n",
       " 'Country_Code_Price',\n",
       " 'Creation_Date',\n",
       " 'Delta_Price',\n",
       " 'Duration',\n",
       " 'EVSE_Id',\n",
       " 'End_Date',\n",
       " 'End_Time',\n",
       " 'Formula',\n",
       " 'Id',\n",
       " 'Latitude',\n",
       " 'Longitude',\n",
       " 'MSP_Segment',\n",
       " 'Main_stat_all',\n",
       " 'Power',\n",
       " 'Power_Category',\n",
       " 'Quantity',\n",
       " 'Remote_Capacity',\n",
       " 'Start_Date',\n",
       " 'Start_Time',\n",
       " 'Stat_tag',\n",
       " 'Transaction_Id',\n",
       " 'Transaction_Price',\n",
       " 'Transaction_Price_Bemo_Energy_Component',\n",
       " 'Transaction_Price_Bemo_Estimation',\n",
       " 'Transaction_Price_Bemo_Flat_Component',\n",
       " 'Transaction_Price_Bemo_ParkingTime_Component',\n",
       " 'Transaction_Price_Bemo_Time_Component',\n",
       " 'Transaction_Price_CPO_Estimation',\n",
       " 'Valid_From',\n",
       " 'Valid_To',\n",
       " 'Vehicle_Id',\n",
       " 'Zip_Code']"
      ]
     },
     "execution_count": 72,
     "metadata": {},
     "output_type": "execute_result"
    }
   ],
   "source": [
    "sorted(list(df_trx_evse_formula.columns))"
   ]
  },
  {
   "cell_type": "code",
   "execution_count": 73,
   "id": "c21e2bad-8fb3-4454-8759-74e2db97721e",
   "metadata": {},
   "outputs": [
    {
     "data": {
      "text/html": [
       "<div>\n",
       "<style scoped>\n",
       "    .dataframe tbody tr th:only-of-type {\n",
       "        vertical-align: middle;\n",
       "    }\n",
       "\n",
       "    .dataframe tbody tr th {\n",
       "        vertical-align: top;\n",
       "    }\n",
       "\n",
       "    .dataframe thead th {\n",
       "        text-align: right;\n",
       "    }\n",
       "</style>\n",
       "<table border=\"1\" class=\"dataframe\">\n",
       "  <thead>\n",
       "    <tr style=\"text-align: right;\">\n",
       "      <th></th>\n",
       "      <th>ChargingPeriodCollection_Body</th>\n",
       "      <th>Connector_Id</th>\n",
       "      <th>Country_Code</th>\n",
       "      <th>Start_Date</th>\n",
       "      <th>Transaction_Price_Bemo_Energy_Component</th>\n",
       "      <th>Transaction_Price_Bemo_Estimation</th>\n",
       "      <th>Transaction_Price_Bemo_Flat_Component</th>\n",
       "      <th>Transaction_Price_Bemo_ParkingTime_Component</th>\n",
       "      <th>Transaction_Price_Bemo_Time_Component</th>\n",
       "      <th>Transaction_Price_CPO_Estimation</th>\n",
       "    </tr>\n",
       "  </thead>\n",
       "  <tbody>\n",
       "    <tr>\n",
       "      <th>0</th>\n",
       "      <td>[{\"Dimensions\": [{\"Type\": \"Time\", \"Volume\": 0....</td>\n",
       "      <td>52be683b-3e26-5b4c-bd8d-5a3d4d9572ab</td>\n",
       "      <td>FR</td>\n",
       "      <td>2024-01-01 00:06:27</td>\n",
       "      <td>0.0</td>\n",
       "      <td>0.0</td>\n",
       "      <td>0.0</td>\n",
       "      <td>0.0</td>\n",
       "      <td>0.0</td>\n",
       "      <td>13.40</td>\n",
       "    </tr>\n",
       "    <tr>\n",
       "      <th>1</th>\n",
       "      <td>[{\"Dimensions\": [{\"Type\": \"Time\", \"Volume\": 1....</td>\n",
       "      <td>7af8110f-dc85-5676-a1aa-e1ee1c34a657</td>\n",
       "      <td>FR</td>\n",
       "      <td>2024-01-01 00:08:42</td>\n",
       "      <td>0.0</td>\n",
       "      <td>0.0</td>\n",
       "      <td>0.0</td>\n",
       "      <td>0.0</td>\n",
       "      <td>0.0</td>\n",
       "      <td>12.83</td>\n",
       "    </tr>\n",
       "    <tr>\n",
       "      <th>2</th>\n",
       "      <td>[{\"Dimensions\": [{\"Type\": \"Time\", \"Volume\": 1....</td>\n",
       "      <td>85bb2889-06da-51cc-a87d-b93267c32e70</td>\n",
       "      <td>FR</td>\n",
       "      <td>2024-01-01 00:10:13</td>\n",
       "      <td>0.0</td>\n",
       "      <td>0.0</td>\n",
       "      <td>0.0</td>\n",
       "      <td>0.0</td>\n",
       "      <td>0.0</td>\n",
       "      <td>4.28</td>\n",
       "    </tr>\n",
       "    <tr>\n",
       "      <th>3</th>\n",
       "      <td>[{\"Dimensions\": [{\"Type\": \"Time\", \"Volume\": 0....</td>\n",
       "      <td>6487b891-c814-5745-af0b-02ff07f69ca5</td>\n",
       "      <td>FR</td>\n",
       "      <td>2024-01-01 00:20:07</td>\n",
       "      <td>0.0</td>\n",
       "      <td>0.0</td>\n",
       "      <td>0.0</td>\n",
       "      <td>0.0</td>\n",
       "      <td>0.0</td>\n",
       "      <td>2.34</td>\n",
       "    </tr>\n",
       "    <tr>\n",
       "      <th>4</th>\n",
       "      <td>[{\"Dimensions\": [{\"Type\": \"Time\", \"Volume\": 0....</td>\n",
       "      <td>70bc55d7-9327-5396-b478-585413257cfb</td>\n",
       "      <td>FR</td>\n",
       "      <td>2024-01-01 00:21:25</td>\n",
       "      <td>0.0</td>\n",
       "      <td>0.0</td>\n",
       "      <td>0.0</td>\n",
       "      <td>0.0</td>\n",
       "      <td>0.0</td>\n",
       "      <td>15.03</td>\n",
       "    </tr>\n",
       "  </tbody>\n",
       "</table>\n",
       "</div>"
      ],
      "text/plain": [
       "                       ChargingPeriodCollection_Body  \\\n",
       "0  [{\"Dimensions\": [{\"Type\": \"Time\", \"Volume\": 0....   \n",
       "1  [{\"Dimensions\": [{\"Type\": \"Time\", \"Volume\": 1....   \n",
       "2  [{\"Dimensions\": [{\"Type\": \"Time\", \"Volume\": 1....   \n",
       "3  [{\"Dimensions\": [{\"Type\": \"Time\", \"Volume\": 0....   \n",
       "4  [{\"Dimensions\": [{\"Type\": \"Time\", \"Volume\": 0....   \n",
       "\n",
       "                           Connector_Id Country_Code           Start_Date  \\\n",
       "0  52be683b-3e26-5b4c-bd8d-5a3d4d9572ab           FR  2024-01-01 00:06:27   \n",
       "1  7af8110f-dc85-5676-a1aa-e1ee1c34a657           FR  2024-01-01 00:08:42   \n",
       "2  85bb2889-06da-51cc-a87d-b93267c32e70           FR  2024-01-01 00:10:13   \n",
       "3  6487b891-c814-5745-af0b-02ff07f69ca5           FR  2024-01-01 00:20:07   \n",
       "4  70bc55d7-9327-5396-b478-585413257cfb           FR  2024-01-01 00:21:25   \n",
       "\n",
       "   Transaction_Price_Bemo_Energy_Component  Transaction_Price_Bemo_Estimation  \\\n",
       "0                                      0.0                                0.0   \n",
       "1                                      0.0                                0.0   \n",
       "2                                      0.0                                0.0   \n",
       "3                                      0.0                                0.0   \n",
       "4                                      0.0                                0.0   \n",
       "\n",
       "   Transaction_Price_Bemo_Flat_Component  \\\n",
       "0                                    0.0   \n",
       "1                                    0.0   \n",
       "2                                    0.0   \n",
       "3                                    0.0   \n",
       "4                                    0.0   \n",
       "\n",
       "   Transaction_Price_Bemo_ParkingTime_Component  \\\n",
       "0                                           0.0   \n",
       "1                                           0.0   \n",
       "2                                           0.0   \n",
       "3                                           0.0   \n",
       "4                                           0.0   \n",
       "\n",
       "   Transaction_Price_Bemo_Time_Component  Transaction_Price_CPO_Estimation  \n",
       "0                                    0.0                             13.40  \n",
       "1                                    0.0                             12.83  \n",
       "2                                    0.0                              4.28  \n",
       "3                                    0.0                              2.34  \n",
       "4                                    0.0                             15.03  "
      ]
     },
     "metadata": {},
     "output_type": "display_data"
    }
   ],
   "source": [
    "display(df_trx_evse_formula[['ChargingPeriodCollection_Body','Connector_Id','Country_Code','Start_Date','Transaction_Price_Bemo_Energy_Component',\\\n",
    "                             'Transaction_Price_Bemo_Estimation','Transaction_Price_Bemo_Flat_Component','Transaction_Price_Bemo_ParkingTime_Component',\\\n",
    "                             'Transaction_Price_Bemo_Time_Component','Transaction_Price_CPO_Estimation']].head())"
   ]
  },
  {
   "cell_type": "code",
   "execution_count": 74,
   "id": "c0e827d0-298e-4884-abe5-f52d261926a6",
   "metadata": {},
   "outputs": [
    {
     "data": {
      "text/html": [
       "<div>\n",
       "<style scoped>\n",
       "    .dataframe tbody tr th:only-of-type {\n",
       "        vertical-align: middle;\n",
       "    }\n",
       "\n",
       "    .dataframe tbody tr th {\n",
       "        vertical-align: top;\n",
       "    }\n",
       "\n",
       "    .dataframe thead th {\n",
       "        text-align: right;\n",
       "    }\n",
       "</style>\n",
       "<table border=\"1\" class=\"dataframe\">\n",
       "  <thead>\n",
       "    <tr style=\"text-align: right;\">\n",
       "      <th></th>\n",
       "      <th>Id</th>\n",
       "      <th>Creation_Date</th>\n",
       "      <th>Valid_From</th>\n",
       "      <th>Valid_To</th>\n",
       "      <th>Formula</th>\n",
       "      <th>Connector_Id</th>\n",
       "      <th>Country_Code</th>\n",
       "    </tr>\n",
       "  </thead>\n",
       "  <tbody>\n",
       "    <tr>\n",
       "      <th>0</th>\n",
       "      <td>ea31ad9b-64ae-4cc1-b4b7-ef951793db89</td>\n",
       "      <td>2024-01-09 15:13:58.347 +0100</td>\n",
       "      <td>2024-04-02 03:13:20.800 +0200</td>\n",
       "      <td>NaN</td>\n",
       "      <td>{\"currency\": \"EUR\", \"elements\": [{\"restriction...</td>\n",
       "      <td>d608cc9c-34fb-5c28-9590-81866ede4a93</td>\n",
       "      <td>FR</td>\n",
       "    </tr>\n",
       "    <tr>\n",
       "      <th>1</th>\n",
       "      <td>e67e72f2-d163-4484-95e2-a767390d020f</td>\n",
       "      <td>2024-01-09 15:13:58.347 +0100</td>\n",
       "      <td>2024-03-08 02:04:03.467 +0100</td>\n",
       "      <td>NaN</td>\n",
       "      <td>{\"currency\": \"EUR\", \"elements\": [{\"priceCompon...</td>\n",
       "      <td>d2388f1a-1b2a-55fa-b2b6-47cbd0516c3f</td>\n",
       "      <td>NL</td>\n",
       "    </tr>\n",
       "    <tr>\n",
       "      <th>2</th>\n",
       "      <td>c7496782-c3ae-44c1-8c2c-4c0718cd10b4</td>\n",
       "      <td>2024-01-09 15:13:58.347 +0100</td>\n",
       "      <td>2024-04-02 03:13:20.800 +0200</td>\n",
       "      <td>NaN</td>\n",
       "      <td>{\"currency\": \"EUR\", \"elements\": [{\"restriction...</td>\n",
       "      <td>3a136efb-285e-5711-9c91-419fecdd5465</td>\n",
       "      <td>FR</td>\n",
       "    </tr>\n",
       "    <tr>\n",
       "      <th>3</th>\n",
       "      <td>0d1f22e5-c289-465b-88e7-8eae065810a5</td>\n",
       "      <td>2024-01-09 15:13:58.347 +0100</td>\n",
       "      <td>2024-04-02 03:13:20.785 +0200</td>\n",
       "      <td>NaN</td>\n",
       "      <td>{\"currency\": \"EUR\", \"elements\": [{\"restriction...</td>\n",
       "      <td>088fe4f2-21f5-52a0-82d8-6f268489d3dd</td>\n",
       "      <td>FR</td>\n",
       "    </tr>\n",
       "    <tr>\n",
       "      <th>4</th>\n",
       "      <td>6e0ecd0f-cfed-48e1-8199-c126f559c833</td>\n",
       "      <td>2024-01-09 15:13:58.347 +0100</td>\n",
       "      <td>2024-04-02 03:13:20.800 +0200</td>\n",
       "      <td>NaN</td>\n",
       "      <td>{\"currency\": \"EUR\", \"elements\": [{\"restriction...</td>\n",
       "      <td>b94b32b2-4972-5954-be11-d0ac4289f8a4</td>\n",
       "      <td>FR</td>\n",
       "    </tr>\n",
       "  </tbody>\n",
       "</table>\n",
       "</div>"
      ],
      "text/plain": [
       "                                     Id                  Creation_Date  \\\n",
       "0  ea31ad9b-64ae-4cc1-b4b7-ef951793db89  2024-01-09 15:13:58.347 +0100   \n",
       "1  e67e72f2-d163-4484-95e2-a767390d020f  2024-01-09 15:13:58.347 +0100   \n",
       "2  c7496782-c3ae-44c1-8c2c-4c0718cd10b4  2024-01-09 15:13:58.347 +0100   \n",
       "3  0d1f22e5-c289-465b-88e7-8eae065810a5  2024-01-09 15:13:58.347 +0100   \n",
       "4  6e0ecd0f-cfed-48e1-8199-c126f559c833  2024-01-09 15:13:58.347 +0100   \n",
       "\n",
       "                      Valid_From  Valid_To  \\\n",
       "0  2024-04-02 03:13:20.800 +0200       NaN   \n",
       "1  2024-03-08 02:04:03.467 +0100       NaN   \n",
       "2  2024-04-02 03:13:20.800 +0200       NaN   \n",
       "3  2024-04-02 03:13:20.785 +0200       NaN   \n",
       "4  2024-04-02 03:13:20.800 +0200       NaN   \n",
       "\n",
       "                                             Formula  \\\n",
       "0  {\"currency\": \"EUR\", \"elements\": [{\"restriction...   \n",
       "1  {\"currency\": \"EUR\", \"elements\": [{\"priceCompon...   \n",
       "2  {\"currency\": \"EUR\", \"elements\": [{\"restriction...   \n",
       "3  {\"currency\": \"EUR\", \"elements\": [{\"restriction...   \n",
       "4  {\"currency\": \"EUR\", \"elements\": [{\"restriction...   \n",
       "\n",
       "                           Connector_Id Country_Code  \n",
       "0  d608cc9c-34fb-5c28-9590-81866ede4a93           FR  \n",
       "1  d2388f1a-1b2a-55fa-b2b6-47cbd0516c3f           NL  \n",
       "2  3a136efb-285e-5711-9c91-419fecdd5465           FR  \n",
       "3  088fe4f2-21f5-52a0-82d8-6f268489d3dd           FR  \n",
       "4  b94b32b2-4972-5954-be11-d0ac4289f8a4           FR  "
      ]
     },
     "metadata": {},
     "output_type": "display_data"
    }
   ],
   "source": [
    "display(df_price_formula.head())"
   ]
  },
  {
   "cell_type": "code",
   "execution_count": 75,
   "id": "2f74b140-8649-43ad-956c-b1543c22d494",
   "metadata": {},
   "outputs": [
    {
     "name": "stdin",
     "output_type": "stream",
     "text": [
      "Read below : \n"
     ]
    },
    {
     "name": "stdout",
     "output_type": "stream",
     "text": [
      "\n"
     ]
    }
   ],
   "source": [
    "print(input('Read below :'))"
   ]
  },
  {
   "cell_type": "raw",
   "id": "1ad849d8-3874-4a1b-bbf2-29ff86465a10",
   "metadata": {},
   "source": [
    "Keep in mind that it is a naive version about the Price formula selection considering :\n",
    "- valid date : filter not present in this version. Take a price formula with trx_start_date between price formula valid_from and valid_to.\n",
    "- charging periods check : not present in this version. Sometimes chargingPeriods.dimensions.type is not a str (Time, Energy, Flat, ParkingTime) but an int (0,1,2,3,4,5).\n",
    "Change it using this conversion dictionary if needed : {0:'Energy', 1:'Flat', 2:'ParkingTime', 3:'Time',, 4:'ParkingTime', 5:'Time'}\n",
    "- formula check : present in this version. Sometimes df_trx_evse_formula['Formula'] has 'false' instead of 'False' (same for 'True'),\n",
    "other cases not encountered yet... Thus a conversion from dict to str must be done before replacing this pattern and then a new conversion from str to dict is done.\n",
    "- in case of another exception/error encountered : please contact me !"
   ]
  },
  {
   "cell_type": "raw",
   "id": "92dcaa8a-8ca3-4978-b265-585046886bd6",
   "metadata": {},
   "source": [
    "The merge above between trx_evse dataframe and price_formula dataframe is naive.\n",
    "You must take into account the hints above while merging.\n",
    "The merge above is naive ans simple enough to show you how the pricer works.\n",
    "But it does not associate efficiently a session and its corresponding price formula..."
   ]
  },
  {
   "cell_type": "markdown",
   "id": "33b1f3f8-e687-4dd2-a2d7-e2ad87ad2022",
   "metadata": {},
   "source": [
    "# Pricer request : Single computation example"
   ]
  },
  {
   "cell_type": "code",
   "execution_count": 76,
   "id": "8ac47851-2963-4bcc-a1a3-5bf38780c2a6",
   "metadata": {},
   "outputs": [
    {
     "name": "stdout",
     "output_type": "stream",
     "text": [
      "{\"session\": {\"chargingPeriods\": [{\"startDateTime\": \"2023-04-23T21:00:00Z\", \"dimensions\": [{\"type\": \"TIME\", \"volume\": 2}, {\"type\": \"ENERGY\", \"volume\": 36}]}], \"partnerCdrId\": \"e94f3d18-c73f-4bb2-baa6-16bb849bf2c0\"}, \"tariff\": {\"currency\": \"EUR\", \"elements\": [{\"priceComponents\": [{\"price\": 3, \"stepSize\": 1, \"type\": \"TIME\", \"vat\": 0}, {\"price\": 1, \"stepSize\": 1, \"type\": \"ENERGY\", \"vat\": 0}]}], \"countryCode\": \"FR\"}}\n",
      "\n",
      "\n",
      "{'flat': 0, 'time': 6, 'parking_time': None, 'energy': 36}\n",
      "\n",
      "\n",
      "6\n"
     ]
    }
   ],
   "source": [
    "url = \"https://dev-pricer.be-mo.io/api/price/ocpi2-2-1/eichrecht-simple\"\n",
    "\n",
    "payload = json.dumps({\n",
    "  \"session\": {\n",
    "    \"chargingPeriods\": [\n",
    "      {\n",
    "        \"startDateTime\": \"2023-04-23T21:00:00Z\",\n",
    "        \"dimensions\": [\n",
    "          {\n",
    "            \"type\": \"TIME\",\n",
    "            \"volume\": 2 # charging duration (hours)\n",
    "          },\n",
    "          {\n",
    "            \"type\": \"ENERGY\",\n",
    "            \"volume\": 36 # energy quantity (kWh)\n",
    "          }\n",
    "        ]\n",
    "      }\n",
    "    ],\n",
    "    \"partnerCdrId\": \"e94f3d18-c73f-4bb2-baa6-16bb849bf2c0\"\n",
    "  },\n",
    "  \"tariff\": {\n",
    "    \"currency\": \"EUR\",\n",
    "    \"elements\": [\n",
    "      {\n",
    "        \"priceComponents\": [\n",
    "          {\n",
    "            \"price\": 3,\n",
    "            \"stepSize\": 1,\n",
    "            \"type\": \"TIME\",\n",
    "            \"vat\": 0\n",
    "          },\n",
    "          {\n",
    "            \"price\": 1,\n",
    "            \"stepSize\": 1,\n",
    "            \"type\": \"ENERGY\",\n",
    "            \"vat\": 0\n",
    "          }\n",
    "        ]\n",
    "      }\n",
    "    ],\n",
    "    \"countryCode\": \"FR\"\n",
    "  }\n",
    "})\n",
    "headers = {\n",
    "  'Content-Type': 'application/json'\n",
    "}\n",
    "\n",
    "print(payload)\n",
    "response = requests.request(\"POST\", url, headers=headers, data=payload, verify=False)\n",
    "response = response.json()\n",
    "print('\\n')\n",
    "print(response)\n",
    "print('\\n')\n",
    "print(response['time'])"
   ]
  },
  {
   "cell_type": "markdown",
   "id": "e1ef5e73-6aae-4934-a342-f0f3b27af05b",
   "metadata": {},
   "source": [
    "# Batch computation "
   ]
  },
  {
   "cell_type": "markdown",
   "id": "299762db-5e72-4a83-96a1-110fab775bf4",
   "metadata": {},
   "source": [
    "##  Corresponding references session-price"
   ]
  },
  {
   "cell_type": "code",
   "execution_count": 77,
   "id": "cb132355-35b9-4a82-b68e-27f26c8d380b",
   "metadata": {},
   "outputs": [],
   "source": [
    "# One session with its corresponding price formula"
   ]
  },
  {
   "cell_type": "code",
   "execution_count": 78,
   "id": "88f22830-606f-4051-b55a-2f8b1f982f28",
   "metadata": {},
   "outputs": [
    {
     "name": "stdout",
     "output_type": "stream",
     "text": [
      "<class 'list'>\n",
      "[{'Dimensions': [{'Type': 'Time', 'Volume': 0.349166666666667}], 'StartDateTime': '2024-01-01T00:06:27Z'}, {'Dimensions': [{'Type': 'ENERGY', 'Volume': 27.263}], 'StartDateTime': '2024-01-01T00:06:27Z'}]\n"
     ]
    }
   ],
   "source": [
    "charging_period_var = ast.literal_eval(df_trx_evse_formula['ChargingPeriodCollection_Body'].loc[0])\n",
    "print(type(charging_period_var))\n",
    "print(charging_period_var)"
   ]
  },
  {
   "cell_type": "code",
   "execution_count": 79,
   "id": "36efe85e-e459-4d66-840f-145e84f2d626",
   "metadata": {},
   "outputs": [
    {
     "name": "stdout",
     "output_type": "stream",
     "text": [
      "<class 'dict'>\n",
      "{'currency': 'EUR', 'elements': [{'priceComponents': [{'vat': 0.0, 'type': 'Energy', 'price': 0.49167, 'stepSize': 1}]}, {'restrictions': {'dayOfWeek': [], 'maxDuration': 2700, 'minDuration': 0}, 'priceComponents': [{'vat': 0.0, 'type': 'Time', 'price': 0.0, 'stepSize': 60}]}, {'restrictions': {'dayOfWeek': [], 'minDuration': 2701}, 'priceComponents': [{'vat': 0.0, 'type': 'Time', 'price': 10.0002, 'stepSize': 60}]}], 'energyMix': {'energySources': [], 'environImpact': [], 'isGreenEnergy': False}}\n"
     ]
    }
   ],
   "source": [
    "formula_dict = str(df_trx_evse_formula['Formula'].loc[0])\n",
    "formula_dict = formula_dict.replace(\"false\", \"False\")\n",
    "formula_dict = formula_dict.replace(\"true\", \"True\")\n",
    "formula_dict = ast.literal_eval(formula_dict)\n",
    "print(type(formula_dict))\n",
    "print(formula_dict)"
   ]
  },
  {
   "cell_type": "code",
   "execution_count": 80,
   "id": "3fb8d128-6bf3-4e49-9f49-159f9191ede5",
   "metadata": {},
   "outputs": [],
   "source": [
    "df_results = pd.DataFrame.from_dict({'Charging_Periods':[],\\\n",
    "          'Partner_Cdr_Id':[],\\\n",
    "          'Currency':[],\\\n",
    "          'Elements':[],\\\n",
    "          'Country_Code':[],\\\n",
    "          'Computation_Successful':[],\\\n",
    "          'Time_Component_Price':[],\\\n",
    "          'Energy_Component_Price':[],\\\n",
    "          'Flat_Component_Price':[],\\\n",
    "          'Parking_Component_Price':[],\\\n",
    "          'Total_price':[]})\n",
    "\n",
    "# Looping through price formula with unique above inputs\n",
    "# for i in range(df_trx_evse_formula.shape[0]):\n",
    "for i in range(5):\n",
    "    \n",
    "    formula_dict = str(df_trx_evse_formula['Formula'].loc[i])\n",
    "    formula_dict = formula_dict.replace(\"false\", \"False\")\n",
    "    formula_dict = formula_dict.replace(\"true\", \"True\")\n",
    "    formula_dict = ast.literal_eval(formula_dict)\n",
    "\n",
    "    partnerCdrId_var = df_trx_evse_formula['Id'].loc[i]\n",
    "    currency_var = formula_dict['currency']\n",
    "    elements_var = formula_dict['elements']\n",
    "    country_var = df_trx_evse_formula['Country_Code_Price'].loc[i]\n",
    "    charging_period_var = ast.literal_eval(df_trx_evse_formula['ChargingPeriodCollection_Body'].loc[i])\n",
    "    # charging_period_dict contains previous elements and even more in complex cases :\n",
    "    # startDateTime_var = '2024-01-01T12:00:00Z'\n",
    "    # sessionVolumme_var = 2\n",
    "    # sessionType_var = \"TIME\"\n",
    "\n",
    "    body_dict = {\"session\":{\"chargingPeriods\": charging_period_var,\\\n",
    "                            \"partnerCdrId\": partnerCdrId_var},\\\n",
    "                 \"tariff\": {\"currency\": currency_var,\\\n",
    "                            \"elements\": elements_var,\\\n",
    "                            \"countryCode\": country_var}\\\n",
    "                }\n",
    "    \n",
    "    url = \"https://dev-pricer.be-mo.io/api/price/ocpi2-2-1/eichrecht-simple\"\n",
    "    response = requests.request(\"POST\",\\\n",
    "                                url,\\\n",
    "                                headers={'Content-Type': 'application/json'},\\\n",
    "                                data=json.dumps(body_dict),\\\n",
    "                                verify=False)\n",
    "    response_dict = response.json()\n",
    "    \n",
    "    # Computation successful : exporting results\n",
    "    if('errors' not in list(response_dict.keys())):\n",
    "        if(response_dict['time'] == None):\n",
    "            time_component_price = 0\n",
    "        else:\n",
    "            time_component_price = response_dict['time']\n",
    "            \n",
    "        if(response_dict['energy'] == None):\n",
    "            energy_component_price = 0\n",
    "        else:\n",
    "            energy_component_price = response_dict['energy']    \n",
    "    \n",
    "        if(response_dict['flat'] == None):\n",
    "            flat_component_price = 0\n",
    "        else:\n",
    "            flat_component_price = response_dict['flat']   \n",
    "    \n",
    "        if(response_dict['parking_time'] == None):\n",
    "            parking_component_price = 0\n",
    "        else:\n",
    "            parking_component_price = response_dict['parking_time']\n",
    "    \n",
    "        total_price = time_component_price + energy_component_price + flat_component_price + parking_component_price\n",
    "        computation_successful = 1\n",
    "        \n",
    "    # At least one error occured : writing NaNs\n",
    "    else:\n",
    "        time_component_price = np.nan\n",
    "        energy_component_price = np.nan\n",
    "        flat_component_price = np.nan\n",
    "        parking_component_price = np.nan\n",
    "        total_price = np.nan\n",
    "        computation_successful = 0\n",
    "    \n",
    "    new_row = pd.DataFrame.from_dict({'Charging_Periods':[charging_period_var],\\\n",
    "          'Partner_Cdr_Id':[partnerCdrId_var],\\\n",
    "          'Currency':[currency_var],\\\n",
    "          'Elements':[elements_var],\\\n",
    "          'Country_Code':[country_var],\\\n",
    "          'Computation_Successful':[computation_successful],\\\n",
    "          'Time_Component_Price':[time_component_price],\\\n",
    "          'Energy_Component_Price':[energy_component_price],\\\n",
    "          'Flat_Component_Price':[flat_component_price],\\\n",
    "          'Parking_Component_Price':[parking_component_price],\\\n",
    "          'Total_price':[total_price]})\n",
    "    df_results = pd.concat([df_results, new_row], axis=0) #join='outer', ignore_index=False)\n",
    "    \n",
    "# Saving all results in a CSV file\n",
    "df_results.to_csv('./Computation_results_batchSessionsPrice.csv', index=False, index_label=True, header=True, encoding='utf-8', quotechar='\"', decimal='.', sep=';') # encoding='iso-8859-1'"
   ]
  },
  {
   "cell_type": "markdown",
   "id": "20ec38bd-0593-48ed-af65-9c17dfd45158",
   "metadata": {},
   "source": [
    "## Through session inputs with unique price formula"
   ]
  },
  {
   "cell_type": "code",
   "execution_count": 81,
   "id": "8eb1038c-507b-482a-aab4-e64a7be2025d",
   "metadata": {},
   "outputs": [],
   "source": [
    "# One price formula applied to different session inputs"
   ]
  },
  {
   "cell_type": "code",
   "execution_count": 82,
   "id": "c9b4bc81-4e10-468a-959c-e1b8bf63049d",
   "metadata": {},
   "outputs": [],
   "source": [
    "# Naive price formula input : .loc[0] for this example\n",
    "formula_dict = str(df_trx_evse_formula['Formula'].loc[0])\n",
    "formula_dict = formula_dict.replace(\"false\", \"False\")\n",
    "formula_dict = formula_dict.replace(\"true\", \"True\")\n",
    "formula_dict = ast.literal_eval(formula_dict)\n",
    "\n",
    "currency_var = formula_dict['currency']\n",
    "elements_var = formula_dict['elements']\n",
    "country_var = df_trx_evse_formula['Country_Code_Price'].loc[0]\n",
    "\n",
    "df_results = pd.DataFrame.from_dict({'Charging_Periods':[],\\\n",
    "          'Partner_Cdr_Id':[],\\\n",
    "          'Currency':[],\\\n",
    "          'Elements':[],\\\n",
    "          'Country_Code':[],\\\n",
    "          'Computation_Successful':[],\\\n",
    "          'Time_Component_Price':[],\\\n",
    "          'Energy_Component_Price':[],\\\n",
    "          'Flat_Component_Price':[],\\\n",
    "          'Parking_Component_Price':[],\\\n",
    "          'Total_price':[]})\n",
    "\n",
    "# Looping through price formula with unique above inputs\n",
    "# for i in range(df_trx_evse_formula.shape[0]):\n",
    "for i in range(5):\n",
    "\n",
    "    partnerCdrId_var = df_trx_evse_formula['Id'].loc[i]\n",
    "    charging_period_var = ast.literal_eval(df_trx_evse_formula['ChargingPeriodCollection_Body'].loc[i])\n",
    "    # charging_period_dict contains previous elements and even more in complex cases :\n",
    "    # startDateTime_var = '2024-01-01T12:00:00Z'\n",
    "    # sessionVolumme_var = 2\n",
    "    # sessionType_var = \"TIME\"\n",
    "\n",
    "    body_dict = {\"session\":{\"chargingPeriods\": charging_period_var,\\\n",
    "                            \"partnerCdrId\": partnerCdrId_var},\\\n",
    "                 \"tariff\": {\"currency\": currency_var,\\\n",
    "                            \"elements\": elements_var,\\\n",
    "                            \"countryCode\": country_var}\\\n",
    "                }\n",
    "    \n",
    "    url = \"https://dev-pricer.be-mo.io/api/price/ocpi2-2-1/eichrecht-simple\"\n",
    "    response = requests.request(\"POST\",\\\n",
    "                                url,\\\n",
    "                                headers={'Content-Type': 'application/json'},\\\n",
    "                                data=json.dumps(body_dict),\\\n",
    "                                verify=False)\n",
    "    response_dict = response.json()\n",
    "    \n",
    "    # Computation successful : exporting results\n",
    "    if('errors' not in list(response_dict.keys())):\n",
    "        if(response_dict['time'] == None):\n",
    "            time_component_price = 0\n",
    "        else:\n",
    "            time_component_price = response_dict['time']\n",
    "            \n",
    "        if(response_dict['energy'] == None):\n",
    "            energy_component_price = 0\n",
    "        else:\n",
    "            energy_component_price = response_dict['energy']    \n",
    "    \n",
    "        if(response_dict['flat'] == None):\n",
    "            flat_component_price = 0\n",
    "        else:\n",
    "            flat_component_price = response_dict['flat']   \n",
    "    \n",
    "        if(response_dict['parking_time'] == None):\n",
    "            parking_component_price = 0\n",
    "        else:\n",
    "            parking_component_price = response_dict['parking_time']\n",
    "    \n",
    "        total_price = time_component_price + energy_component_price + flat_component_price + parking_component_price\n",
    "        computation_successful = 1\n",
    "        \n",
    "    # At least one error occured : writing NaNs\n",
    "    else:\n",
    "        time_component_price = np.nan\n",
    "        energy_component_price = np.nan\n",
    "        flat_component_price = np.nan\n",
    "        parking_component_price = np.nan\n",
    "        total_price = np.nan\n",
    "        computation_successful = 0\n",
    "    \n",
    "    new_row = pd.DataFrame.from_dict({'Charging_Periods':[charging_period_var],\\\n",
    "          'Partner_Cdr_Id':[partnerCdrId_var],\\\n",
    "          'Currency':[currency_var],\\\n",
    "          'Elements':[elements_var],\\\n",
    "          'Country_Code':[country_var],\\\n",
    "          'Computation_Successful':[computation_successful],\\\n",
    "          'Time_Component_Price':[time_component_price],\\\n",
    "          'Energy_Component_Price':[energy_component_price],\\\n",
    "          'Flat_Component_Price':[flat_component_price],\\\n",
    "          'Parking_Component_Price':[parking_component_price],\\\n",
    "          'Total_price':[total_price]})\n",
    "    df_results = pd.concat([df_results, new_row], axis=0) #join='outer', ignore_index=False)\n",
    "    \n",
    "# Saving all results in a CSV file\n",
    "df_results.to_csv('./Computation_results_batchInputParams.csv', index=False, index_label=True, header=True, encoding='utf-8', quotechar='\"', decimal='.', sep=';') # encoding='iso-8859-1'"
   ]
  },
  {
   "cell_type": "markdown",
   "id": "779a7621-fdab-4b67-933d-1bc7f96f3102",
   "metadata": {},
   "source": [
    "## Through price formulas with unique session input"
   ]
  },
  {
   "cell_type": "code",
   "execution_count": 83,
   "id": "c1b6e53f-9668-4ee4-ba3c-9480162b4306",
   "metadata": {},
   "outputs": [],
   "source": [
    "# One session input applied to different price formulas"
   ]
  },
  {
   "cell_type": "code",
   "execution_count": 84,
   "id": "46efc38f-779a-46ee-99e3-0c9e1b160db8",
   "metadata": {},
   "outputs": [],
   "source": [
    "# Naive session params input : .loc[0] for this example\n",
    "partnerCdrId_var = df_trx_evse_formula['Id'].loc[0]\n",
    "charging_period_dict = ast.literal_eval(df_trx_evse_formula['ChargingPeriodCollection_Body'].loc[0])\n",
    "# charging_period_dict contains previous elements and even more in complex cases :\n",
    "# startDateTime_var = '2024-01-01T12:00:00Z'\n",
    "# sessionVolumme_var = 2\n",
    "# sessionType_var = \"TIME\"\n",
    "\n",
    "df_results = pd.DataFrame.from_dict({'Charging_Periods':[],\\\n",
    "          'Partner_Cdr_Id':[],\\\n",
    "          'Currency':[],\\\n",
    "          'Elements':[],\\\n",
    "          'Country_Code':[],\\\n",
    "          'Computation_Successful':[],\\\n",
    "          'Time_Component_Price':[],\\\n",
    "          'Energy_Component_Price':[],\\\n",
    "          'Flat_Component_Price':[],\\\n",
    "          'Parking_Component_Price':[],\\\n",
    "          'Total_price':[]})\n",
    "\n",
    "# Looping through price formula with unique above inputs\n",
    "# for i in range(df_trx_evse_formula.shape[0]):\n",
    "for i in range(5):\n",
    "    \n",
    "    formula_dict = str(df_trx_evse_formula['Formula'].loc[i])\n",
    "    formula_dict = formula_dict.replace(\"false\", \"False\")\n",
    "    formula_dict = formula_dict.replace(\"true\", \"True\")\n",
    "    formula_dict = ast.literal_eval(formula_dict)\n",
    "\n",
    "    currency_var = formula_dict['currency']\n",
    "    elements_var = formula_dict['elements']\n",
    "    country_var = df_trx_evse_formula['Country_Code_Price'].loc[i]\n",
    "\n",
    "    body_dict = {\"session\":{\"chargingPeriods\": charging_period_var,\\\n",
    "                            \"partnerCdrId\": partnerCdrId_var},\\\n",
    "                 \"tariff\": {\"currency\": currency_var,\\\n",
    "                            \"elements\": elements_var,\\\n",
    "                            \"countryCode\": country_var}\\\n",
    "                }\n",
    "    \n",
    "    url = \"https://dev-pricer.be-mo.io/api/price/ocpi2-2-1/eichrecht-simple\"\n",
    "    response = requests.request(\"POST\",\\\n",
    "                                url,\\\n",
    "                                headers={'Content-Type': 'application/json'},\\\n",
    "                                data=json.dumps(body_dict),\\\n",
    "                                verify=False)\n",
    "    response_dict = response.json()\n",
    "    \n",
    "    # Computation successful : exporting results\n",
    "    if('errors' not in list(response_dict.keys())):\n",
    "        if(response_dict['time'] == None):\n",
    "            time_component_price = 0\n",
    "        else:\n",
    "            time_component_price = response_dict['time']\n",
    "            \n",
    "        if(response_dict['energy'] == None):\n",
    "            energy_component_price = 0\n",
    "        else:\n",
    "            energy_component_price = response_dict['energy']    \n",
    "    \n",
    "        if(response_dict['flat'] == None):\n",
    "            flat_component_price = 0\n",
    "        else:\n",
    "            flat_component_price = response_dict['flat']   \n",
    "    \n",
    "        if(response_dict['parking_time'] == None):\n",
    "            parking_component_price = 0\n",
    "        else:\n",
    "            parking_component_price = response_dict['parking_time']\n",
    "    \n",
    "        total_price = time_component_price + energy_component_price + flat_component_price + parking_component_price\n",
    "        computation_successful = 1\n",
    "        \n",
    "    # At least one error occured : writing NaNs\n",
    "    else:\n",
    "        time_component_price = np.nan\n",
    "        energy_component_price = np.nan\n",
    "        flat_component_price = np.nan\n",
    "        parking_component_price = np.nan\n",
    "        total_price = np.nan\n",
    "        computation_successful = 0\n",
    "    \n",
    "    new_row = pd.DataFrame.from_dict({'Charging_Periods':[charging_period_var],\\\n",
    "          'Partner_Cdr_Id':[partnerCdrId_var],\\\n",
    "          'Currency':[currency_var],\\\n",
    "          'Elements':[elements_var],\\\n",
    "          'Country_Code':[country_var],\\\n",
    "          'Computation_Successful':[computation_successful],\\\n",
    "          'Time_Component_Price':[time_component_price],\\\n",
    "          'Energy_Component_Price':[energy_component_price],\\\n",
    "          'Flat_Component_Price':[flat_component_price],\\\n",
    "          'Parking_Component_Price':[parking_component_price],\\\n",
    "          'Total_price':[total_price]})\n",
    "    df_results = pd.concat([df_results, new_row], axis=0) #join='outer', ignore_index=False)\n",
    "    \n",
    "# Saving all results in a CSV file\n",
    "df_results.to_csv('./Computation_results_batchPriceFormula.csv', index=False, index_label=True, header=True, encoding='utf-8', quotechar='\"', decimal='.', sep=';') # encoding='iso-8859-1'"
   ]
  },
  {
   "cell_type": "code",
   "execution_count": 85,
   "id": "e28c93d8-584c-4b75-93d9-9f3f5a2d4b5a",
   "metadata": {},
   "outputs": [
    {
     "name": "stdout",
     "output_type": "stream",
     "text": [
      "All is done\n"
     ]
    }
   ],
   "source": [
    "print('All is done')"
   ]
  },
  {
   "cell_type": "markdown",
   "id": "90109a5e-b711-4a87-b839-9c67a044d87d",
   "metadata": {},
   "source": [
    "# Archive"
   ]
  },
  {
   "cell_type": "code",
   "execution_count": 86,
   "id": "a9af6b7e-9071-40dc-ae53-f6b88bb68668",
   "metadata": {},
   "outputs": [],
   "source": [
    "# for k,v in body_dict.items():\n",
    "#     print(k,v)\n",
    "    \n",
    "# for k in body_dict['tariff']:\n",
    "#     print(k, body_dict['tariff'][k])\n",
    "\n",
    "# If needed to modify few values\n",
    "\n",
    "# def elements_var_check(elements_var):\n",
    "#     isComputableBool = False\n",
    "#     if( (type(elements_var) == list) & (len(elements_var) == 1) ):\n",
    "#         elements_var_dict = elements_var[0]\n",
    "#         if( (type(elements_var_dict) == dict) & ('priceComponents' in elements_var_dict.keys()) ):\n",
    "#             elements_var_dict = elements_var_dict['priceComponents'][0]\n",
    "#             if( set(['vat','type','price','stepSize']).issubset(set(list(elements_var_dict.keys()))) ):\n",
    "#                 if( elements_var_dict['type'] in ['ENERGY', 'Energy', 'FLAT', 'Flat', 'PARKING_TIME', 'Parking_time', 'TIME', 'time'] ):\n",
    "#                     isComputableBool = True\n",
    "#     return(isComputableBool)"
   ]
  }
 ],
 "metadata": {
  "kernelspec": {
   "display_name": "Python 3 (ipykernel)",
   "language": "python",
   "name": "python3"
  },
  "language_info": {
   "codemirror_mode": {
    "name": "ipython",
    "version": 3
   },
   "file_extension": ".py",
   "mimetype": "text/x-python",
   "name": "python",
   "nbconvert_exporter": "python",
   "pygments_lexer": "ipython3",
   "version": "3.11.4"
  }
 },
 "nbformat": 4,
 "nbformat_minor": 5
}
